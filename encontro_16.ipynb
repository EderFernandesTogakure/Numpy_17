{
 "cells": [
  {
   "cell_type": "code",
   "execution_count": 1,
   "metadata": {},
   "outputs": [],
   "source": [
    "#importar as bibliotecas \n",
    "from numpy import pi\n",
    "from numpy import sys\n",
    "from numpy import newaxis\n",
    "import numpy as np"
   ]
  },
  {
   "cell_type": "code",
   "execution_count": 2,
   "metadata": {},
   "outputs": [
    {
     "name": "stdout",
     "output_type": "stream",
     "text": [
      "Versão atual do numpy 1.18.5\n"
     ]
    }
   ],
   "source": [
    "print('Versão atual do numpy', np.__version__)"
   ]
  },
  {
   "cell_type": "code",
   "execution_count": 3,
   "metadata": {},
   "outputs": [
    {
     "data": {
      "text/plain": [
       "array([[5., 9., 1., 9., 3., 4., 8., 4., 5., 0., 7., 5.],\n",
       "       [3., 7., 3., 4., 1., 4., 2., 2., 7., 2., 4., 9.]])"
      ]
     },
     "execution_count": 3,
     "metadata": {},
     "output_type": "execute_result"
    }
   ],
   "source": [
    "rg = np.random.default_rng(1)\n",
    "a = np.floor(10 * rg.random((2, 12)))\n",
    "a"
   ]
  },
  {
   "cell_type": "code",
   "execution_count": 4,
   "metadata": {},
   "outputs": [
    {
     "data": {
      "text/plain": [
       "[array([[5., 9., 1., 9.],\n",
       "        [3., 7., 3., 4.]]),\n",
       " array([[3., 4., 8., 4.],\n",
       "        [1., 4., 2., 2.]]),\n",
       " array([[5., 0., 7., 5.],\n",
       "        [7., 2., 4., 9.]])]"
      ]
     },
     "execution_count": 4,
     "metadata": {},
     "output_type": "execute_result"
    }
   ],
   "source": [
    "#Divide a matriz 'a' em 3\n",
    "np.hsplit(a, 3)"
   ]
  },
  {
   "cell_type": "code",
   "execution_count": 5,
   "metadata": {},
   "outputs": [
    {
     "data": {
      "text/plain": [
       "[array([[5., 9., 1.],\n",
       "        [3., 7., 3.]]),\n",
       " array([[9.],\n",
       "        [4.]]),\n",
       " array([[3., 4., 8., 4., 5., 0., 7., 5.],\n",
       "        [1., 4., 2., 2., 7., 2., 4., 9.]])]"
      ]
     },
     "execution_count": 5,
     "metadata": {},
     "output_type": "execute_result"
    }
   ],
   "source": [
    "#Divide 'a' após a terceira e a quarta coluna \n",
    "np.hsplit(a,(3, 4))"
   ]
  },
  {
   "cell_type": "code",
   "execution_count": null,
   "metadata": {},
   "outputs": [],
   "source": []
  }
 ],
 "metadata": {
  "kernelspec": {
   "display_name": "Python 3",
   "language": "python",
   "name": "python3"
  },
  "language_info": {
   "codemirror_mode": {
    "name": "ipython",
    "version": 3
   },
   "file_extension": ".py",
   "mimetype": "text/x-python",
   "name": "python",
   "nbconvert_exporter": "python",
   "pygments_lexer": "ipython3",
   "version": "3.8.3"
  }
 },
 "nbformat": 4,
 "nbformat_minor": 4
}
